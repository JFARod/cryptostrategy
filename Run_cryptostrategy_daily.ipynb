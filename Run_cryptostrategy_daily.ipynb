{
 "cells": [
  {
   "cell_type": "code",
   "execution_count": 1,
   "metadata": {
    "executionInfo": {
     "elapsed": 2067,
     "status": "ok",
     "timestamp": 1740303055592,
     "user": {
      "displayName": "Farod Estatísticas",
      "userId": "13054169006236956734"
     },
     "user_tz": 180
    },
    "id": "E2AVVk_bJC1F"
   },
   "outputs": [],
   "source": [
    "# Importação das bibliotecas básicas\n",
    "import yfinance as yf\n",
    "import pandas as pd\n",
    "import numpy as np\n",
    "import datetime"
   ]
  },
  {
   "cell_type": "code",
   "execution_count": 2,
   "metadata": {
    "colab": {
     "base_uri": "https://localhost:8080/",
     "height": 384
    },
    "executionInfo": {
     "elapsed": 122,
     "status": "error",
     "timestamp": 1740303064000,
     "user": {
      "displayName": "Farod Estatísticas",
      "userId": "13054169006236956734"
     },
     "user_tz": 180
    },
    "id": "23NYu5TgJTHy",
    "outputId": "ba2d2120-80f4-4c30-f5ed-2f1372d4313c"
   },
   "outputs": [],
   "source": [
    "# Importando as funções do arquivo \"crypto_strategy.py\"\n",
    "# Certifique-se de que o arquivo \"crypto_strategy.py\" está no mesmo diretório do notebook\n",
    "from cryptostrategy import coletar_dados,calcular_indicadores,calcular_atr,calcular_todos_indicadores,gerar_sinais,calcular_retorno_total,otimizar_janela,determinar_tendencia_e_stoploss\n"
   ]
  },
  {
   "cell_type": "code",
   "execution_count": 3,
   "metadata": {},
   "outputs": [],
   "source": [
    "# Lista de tickers para criptomoedas (exemplo)\n",
    "tickers_crypto = ['ONE-USD', 'ALICE-USD', 'ADA-USD','FLOW-USD','GALA-USD','RVN-USD','FIL-USD','LUNA1-USD']"
   ]
  },
  {
   "cell_type": "code",
   "execution_count": null,
   "metadata": {},
   "outputs": [
    {
     "name": "stdout",
     "output_type": "stream",
     "text": [
      "\n",
      "Processando ADA-USD...\n",
      "YF.download() has changed argument auto_adjust default to True\n"
     ]
    },
    {
     "name": "stderr",
     "output_type": "stream",
     "text": [
      "[*********************100%***********************]  1 of 1 completed\n"
     ]
    }
   ],
   "source": [
    "\n",
    "\n",
    "\n",
    "# Dicionário para armazenar os resultados\n",
    "resultados_tendencia = {}\n",
    "tickers_crypto = sorted(tickers_crypto)\n",
    "for ticker in tickers_crypto:\n",
    "    print(f\"\\nProcessando {ticker}...\")\n",
    "    # Coleta os dados históricos para o ticker (passando como lista: [ticker])\n",
    "    dados_crypto = coletar_dados([ticker], start_date='2010-01-01', end_date=datetime.date.today())\n",
    "    df = dados_crypto[ticker].droplevel('Ticker',axis=1)\n",
    "\n",
    "    if df.empty:\n",
    "        print(f\"Aviso: Nenhum dado encontrado para {ticker}.\")\n",
    "        continue\n",
    "\n",
    "    ultimo_preco = df.iloc[-1]['Close']\n",
    "\n",
    "    \n",
    "    # Otimização de janela (por exemplo, janelas de 10 a 30 dias)\n",
    "    #print(f\"\\nOtimização da janela para {ticker}...\")\n",
    "    resultados_janela = otimizar_janela(df, janela_min=1, janela_max=99)\n",
    "    \n",
    "    # Identifica a melhor janela (a primeira linha do DataFrame ordenado)\n",
    "    melhor_janela = int(resultados_janela.iloc[0]['Janela'])\n",
    "    melhor_retorno = resultados_janela.iloc[0]['Retorno_Total']\n",
    "    #print(f\"Melhor janela para {ticker}: {melhor_janela} dias (Retorno Total: {melhor_retorno:.2f})\")\n",
    "    \n",
    "    # Recalcula os indicadores e sinais com a melhor janela\n",
    "    _, df_sinais = calcular_retorno_total(df, melhor_janela)\n",
    "    \n",
    "    # Determina a tendência atual e, se houver reversão, o stop loss\n",
    "    tendencia, posicao_revertida, stop_loss = determinar_tendencia_e_stoploss(df_sinais)\n",
    "    \n",
    "    # Armazena o resultado no dicionário\n",
    "#    resultados_tendencia[ticker] = (tendencia, posicao_revertida, stop_loss, melhor_janela, melhor_retorno)\n",
    "    resultados_tendencia[ticker] = (tendencia, posicao_revertida, stop_loss, melhor_janela, melhor_retorno, ultimo_preco)\n",
    "    \n",
    "    if posicao_revertida is None:\n",
    "        print(f\"{ticker}: Tendência atual: {tendencia}. Último preço: {ultimo_preco:.4f}\")\n",
    "    else:\n",
    "        if posicao_revertida == \"Long\":\n",
    "            print(f\"{ticker}: Reversão de posição Long detectada. Tendência atual: {tendencia}. Stop Loss sugerido: {stop_loss:.4f}. Último preço: {ultimo_preco:.4f}\")\n",
    "        elif posicao_revertida == \"Short\":\n",
    "            print(f\"{ticker}: Reversão de posição Short detectada. Tendência atual: {tendencia}. Stop Loss sugerido: {stop_loss:.4f}. Último preço: {ultimo_preco:.4f}\")\n",
    "\n",
    "# Ao final, itere pelo dicionário 'resultados_tendencia' para consolidar os avisos\n",
    "print(\"\\nResumo das Tendências e Otimizações:\")\n",
    "for ticker, (tendencia, posicao, sl, janela, ret, ultimo_preco) in resultados_tendencia.items():\n",
    "    if posicao is None:\n",
    "        print(f\"{ticker}: Tendência: {tendencia}. Janela Ótima: {janela} dias (Retorno: {ret:.4f}). Último preço: {ultimo_preco:.4f}\")\n",
    "    else:\n",
    "        if posicao == \"Long\":\n",
    "            print(f\"{ticker}: Reversão de Long. Tendência: {tendencia}. Stop Loss: {sl:.4f}. Janela Ótima: {janela} dias (Retorno: {ret:.4f}). Último preço: {ultimo_preco:.4f}\")\n",
    "        else:\n",
    "            print(f\"{ticker}: Reversão de Short. Tendência: {tendencia}. Stop Loss: {sl:.4f}. Janela Ótima: {janela} dias (Retorno: {ret:.4f}). Último preço: {ultimo_preco:.4f}\")\n"
   ]
  },
  {
   "cell_type": "code",
   "execution_count": null,
   "metadata": {},
   "outputs": [],
   "source": []
  }
 ],
 "metadata": {
  "colab": {
   "authorship_tag": "ABX9TyP2JE9M+0mKgXL/CkvI4r//",
   "provenance": []
  },
  "kernelspec": {
   "display_name": "Python 3 (ipykernel)",
   "language": "python",
   "name": "python3"
  },
  "language_info": {
   "codemirror_mode": {
    "name": "ipython",
    "version": 3
   },
   "file_extension": ".py",
   "mimetype": "text/x-python",
   "name": "python",
   "nbconvert_exporter": "python",
   "pygments_lexer": "ipython3",
   "version": "3.12.3"
  }
 },
 "nbformat": 4,
 "nbformat_minor": 4
}
